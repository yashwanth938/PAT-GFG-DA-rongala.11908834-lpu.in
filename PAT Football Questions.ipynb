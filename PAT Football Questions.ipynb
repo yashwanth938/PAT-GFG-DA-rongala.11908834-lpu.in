{
 "cells": [
  {
   "cell_type": "code",
   "execution_count": 2,
   "id": "0a3c9780",
   "metadata": {},
   "outputs": [],
   "source": [
    "import pandas as pd\n",
    "import numpy as np\n",
    "import seaborn as sns\n",
    "import matplotlib.pyplot as plt\n",
    "%matplotlib inline"
   ]
  },
  {
   "cell_type": "code",
   "execution_count": 3,
   "id": "553d4dc0",
   "metadata": {},
   "outputs": [],
   "source": [
    "pd.set_option('display.max_columns', None)"
   ]
  },
  {
   "cell_type": "code",
   "execution_count": 4,
   "id": "a72e9307",
   "metadata": {
    "scrolled": true
   },
   "outputs": [
    {
     "data": {
      "text/html": [
       "<div>\n",
       "<style scoped>\n",
       "    .dataframe tbody tr th:only-of-type {\n",
       "        vertical-align: middle;\n",
       "    }\n",
       "\n",
       "    .dataframe tbody tr th {\n",
       "        vertical-align: top;\n",
       "    }\n",
       "\n",
       "    .dataframe thead th {\n",
       "        text-align: right;\n",
       "    }\n",
       "</style>\n",
       "<table border=\"1\" class=\"dataframe\">\n",
       "  <thead>\n",
       "    <tr style=\"text-align: right;\">\n",
       "      <th></th>\n",
       "      <th>Country</th>\n",
       "      <th>League</th>\n",
       "      <th>Club</th>\n",
       "      <th>Player Names</th>\n",
       "      <th>Matches_Played</th>\n",
       "      <th>Substitution</th>\n",
       "      <th>Mins</th>\n",
       "      <th>Goals</th>\n",
       "      <th>xG</th>\n",
       "      <th>xG Per Avg Match</th>\n",
       "      <th>Shots</th>\n",
       "      <th>OnTarget</th>\n",
       "      <th>Shots Per Avg Match</th>\n",
       "      <th>On Target Per Avg Match</th>\n",
       "      <th>Year</th>\n",
       "    </tr>\n",
       "  </thead>\n",
       "  <tbody>\n",
       "    <tr>\n",
       "      <th>0</th>\n",
       "      <td>Spain</td>\n",
       "      <td>La Liga</td>\n",
       "      <td>(BET)</td>\n",
       "      <td>Juanmi Callejon</td>\n",
       "      <td>19</td>\n",
       "      <td>16</td>\n",
       "      <td>1849</td>\n",
       "      <td>11</td>\n",
       "      <td>6.62</td>\n",
       "      <td>0.34</td>\n",
       "      <td>48</td>\n",
       "      <td>20</td>\n",
       "      <td>2.47</td>\n",
       "      <td>1.03</td>\n",
       "      <td>2016</td>\n",
       "    </tr>\n",
       "    <tr>\n",
       "      <th>1</th>\n",
       "      <td>Spain</td>\n",
       "      <td>La Liga</td>\n",
       "      <td>(BAR)</td>\n",
       "      <td>Antoine Griezmann</td>\n",
       "      <td>36</td>\n",
       "      <td>0</td>\n",
       "      <td>3129</td>\n",
       "      <td>16</td>\n",
       "      <td>11.86</td>\n",
       "      <td>0.36</td>\n",
       "      <td>88</td>\n",
       "      <td>41</td>\n",
       "      <td>2.67</td>\n",
       "      <td>1.24</td>\n",
       "      <td>2016</td>\n",
       "    </tr>\n",
       "    <tr>\n",
       "      <th>2</th>\n",
       "      <td>Spain</td>\n",
       "      <td>La Liga</td>\n",
       "      <td>(ATL)</td>\n",
       "      <td>Luis Suarez</td>\n",
       "      <td>34</td>\n",
       "      <td>1</td>\n",
       "      <td>2940</td>\n",
       "      <td>28</td>\n",
       "      <td>23.21</td>\n",
       "      <td>0.75</td>\n",
       "      <td>120</td>\n",
       "      <td>57</td>\n",
       "      <td>3.88</td>\n",
       "      <td>1.84</td>\n",
       "      <td>2016</td>\n",
       "    </tr>\n",
       "    <tr>\n",
       "      <th>3</th>\n",
       "      <td>Spain</td>\n",
       "      <td>La Liga</td>\n",
       "      <td>(CAR)</td>\n",
       "      <td>Ruben Castro</td>\n",
       "      <td>32</td>\n",
       "      <td>3</td>\n",
       "      <td>2842</td>\n",
       "      <td>13</td>\n",
       "      <td>14.06</td>\n",
       "      <td>0.47</td>\n",
       "      <td>117</td>\n",
       "      <td>42</td>\n",
       "      <td>3.91</td>\n",
       "      <td>1.40</td>\n",
       "      <td>2016</td>\n",
       "    </tr>\n",
       "    <tr>\n",
       "      <th>4</th>\n",
       "      <td>Spain</td>\n",
       "      <td>La Liga</td>\n",
       "      <td>(VAL)</td>\n",
       "      <td>Kevin Gameiro</td>\n",
       "      <td>21</td>\n",
       "      <td>10</td>\n",
       "      <td>1745</td>\n",
       "      <td>13</td>\n",
       "      <td>10.65</td>\n",
       "      <td>0.58</td>\n",
       "      <td>50</td>\n",
       "      <td>23</td>\n",
       "      <td>2.72</td>\n",
       "      <td>1.25</td>\n",
       "      <td>2016</td>\n",
       "    </tr>\n",
       "  </tbody>\n",
       "</table>\n",
       "</div>"
      ],
      "text/plain": [
       "  Country   League   Club       Player Names  Matches_Played  Substitution   \\\n",
       "0   Spain  La Liga  (BET)    Juanmi Callejon              19             16   \n",
       "1   Spain  La Liga  (BAR)  Antoine Griezmann              36              0   \n",
       "2   Spain  La Liga  (ATL)        Luis Suarez              34              1   \n",
       "3   Spain  La Liga  (CAR)       Ruben Castro              32              3   \n",
       "4   Spain  La Liga  (VAL)      Kevin Gameiro              21             10   \n",
       "\n",
       "   Mins  Goals     xG  xG Per Avg Match  Shots  OnTarget  Shots Per Avg Match  \\\n",
       "0  1849     11   6.62              0.34     48        20                 2.47   \n",
       "1  3129     16  11.86              0.36     88        41                 2.67   \n",
       "2  2940     28  23.21              0.75    120        57                 3.88   \n",
       "3  2842     13  14.06              0.47    117        42                 3.91   \n",
       "4  1745     13  10.65              0.58     50        23                 2.72   \n",
       "\n",
       "   On Target Per Avg Match  Year  \n",
       "0                     1.03  2016  \n",
       "1                     1.24  2016  \n",
       "2                     1.84  2016  \n",
       "3                     1.40  2016  \n",
       "4                     1.25  2016  "
      ]
     },
     "execution_count": 4,
     "metadata": {},
     "output_type": "execute_result"
    }
   ],
   "source": [
    "df=pd.read_csv('soccer.csv')\n",
    "df.head()"
   ]
  },
  {
   "cell_type": "code",
   "execution_count": 5,
   "id": "2f09f1cb",
   "metadata": {},
   "outputs": [
    {
     "data": {
      "text/plain": [
       "(660, 15)"
      ]
     },
     "execution_count": 5,
     "metadata": {},
     "output_type": "execute_result"
    }
   ],
   "source": [
    "df.shape"
   ]
  },
  {
   "cell_type": "code",
   "execution_count": 6,
   "id": "63507e7d",
   "metadata": {},
   "outputs": [],
   "source": [
    "df.rename(columns ={\"Player Names\" : \"Player_Names\"}, inplace = True   )\n",
    "df.rename(columns ={\"Substitution \" : \"Substitution\"}, inplace = True   )\n",
    "df.rename(columns ={\"xG Per Avg Match\" : \"xG_Per_Avg_Match\"}, inplace = True   )\n",
    "df.rename(columns ={\"Shots Per Avg Match\" : \"Shots_Per_Avg_Match\"}, inplace = True   )\n",
    "df.rename(columns ={\"On Target Per Avg Match\" : \"On_Target_Per_Avg_Match\"}, inplace = True   )"
   ]
  },
  {
   "cell_type": "markdown",
   "id": "04b22d3a",
   "metadata": {},
   "source": [
    "# Q1: What is the total number of goals scored in the entire dataset?\n",
    "\n",
    "\n"
   ]
  },
  {
   "cell_type": "code",
   "execution_count": 7,
   "id": "d896e0e2",
   "metadata": {},
   "outputs": [],
   "source": [
    "df1 = df.copy()"
   ]
  },
  {
   "cell_type": "code",
   "execution_count": 8,
   "id": "841615b5",
   "metadata": {},
   "outputs": [
    {
     "name": "stdout",
     "output_type": "stream",
     "text": [
      "7795 total number of goals scored in the entire dataset \n"
     ]
    }
   ],
   "source": [
    "totalGoals = df['Goals'].sum()\n",
    "print(totalGoals,\"total number of goals scored in the entire dataset \")"
   ]
  },
  {
   "cell_type": "markdown",
   "id": "f22670e9",
   "metadata": {},
   "source": [
    "# Q2: Which player has scored the most goals as a substitution"
   ]
  },
  {
   "cell_type": "code",
   "execution_count": 9,
   "id": "ae361292",
   "metadata": {},
   "outputs": [
    {
     "name": "stdout",
     "output_type": "stream",
     "text": [
      "Player with the most goals as a substitution: Lionel Messi\n"
     ]
    }
   ],
   "source": [
    "\n",
    "\n",
    "# Filter the data for rows where the player was substituted\n",
    "substitution_goals = df[df['Substitution'] > 1]\n",
    "\n",
    "# Find the player with the most goals as a substitution\n",
    "result = substitution_goals.loc[substitution_goals['Goals'].idxmax(), 'Player_Names']\n",
    "\n",
    "print(\"Player with the most goals as a substitution:\", result)"
   ]
  },
  {
   "cell_type": "code",
   "execution_count": null,
   "id": "47b5c7de",
   "metadata": {},
   "outputs": [],
   "source": [
    "\n"
   ]
  },
  {
   "cell_type": "markdown",
   "id": "9ddbd80d",
   "metadata": {},
   "source": [
    "# Q3: Find the top 5 players with the most number of goals scored. Also find the total number of goals scored by them"
   ]
  },
  {
   "cell_type": "code",
   "execution_count": 10,
   "id": "2795512b",
   "metadata": {},
   "outputs": [
    {
     "data": {
      "text/html": [
       "<div>\n",
       "<style scoped>\n",
       "    .dataframe tbody tr th:only-of-type {\n",
       "        vertical-align: middle;\n",
       "    }\n",
       "\n",
       "    .dataframe tbody tr th {\n",
       "        vertical-align: top;\n",
       "    }\n",
       "\n",
       "    .dataframe thead th {\n",
       "        text-align: right;\n",
       "    }\n",
       "</style>\n",
       "<table border=\"1\" class=\"dataframe\">\n",
       "  <thead>\n",
       "    <tr style=\"text-align: right;\">\n",
       "      <th></th>\n",
       "      <th>Player_Names</th>\n",
       "      <th>Goals</th>\n",
       "    </tr>\n",
       "  </thead>\n",
       "  <tbody>\n",
       "    <tr>\n",
       "      <th>259</th>\n",
       "      <td>Lionel Messi</td>\n",
       "      <td>135</td>\n",
       "    </tr>\n",
       "    <tr>\n",
       "      <th>93</th>\n",
       "      <td>Cristiano Ronaldo</td>\n",
       "      <td>128</td>\n",
       "    </tr>\n",
       "    <tr>\n",
       "      <th>368</th>\n",
       "      <td>Robert Lewandowski</td>\n",
       "      <td>127</td>\n",
       "    </tr>\n",
       "    <tr>\n",
       "      <th>86</th>\n",
       "      <td>Ciro Immobile</td>\n",
       "      <td>107</td>\n",
       "    </tr>\n",
       "    <tr>\n",
       "      <th>273</th>\n",
       "      <td>Luis Suarez</td>\n",
       "      <td>95</td>\n",
       "    </tr>\n",
       "  </tbody>\n",
       "</table>\n",
       "</div>"
      ],
      "text/plain": [
       "           Player_Names  Goals\n",
       "259        Lionel Messi    135\n",
       "93    Cristiano Ronaldo    128\n",
       "368  Robert Lewandowski    127\n",
       "86        Ciro Immobile    107\n",
       "273         Luis Suarez     95"
      ]
     },
     "execution_count": 10,
     "metadata": {},
     "output_type": "execute_result"
    }
   ],
   "source": [
    "\n",
    "# Group the dataset by player names and sum the goals for each player and sort the values and use head function to get top 5 \n",
    "\n",
    "result = df.groupby('Player_Names')['Goals'].sum().reset_index().sort_values(by = 'Goals',ascending = False).head(5)\n",
    "result\n",
    "\n",
    "\n"
   ]
  },
  {
   "cell_type": "code",
   "execution_count": 11,
   "id": "c5bb3bbd",
   "metadata": {},
   "outputs": [
    {
     "name": "stdout",
     "output_type": "stream",
     "text": [
      "Total number of goals scored by the top 5 players: 592\n"
     ]
    }
   ],
   "source": [
    "# Finding the total number of goals scored by team\n",
    "\n",
    "finalout = result['Goals'].sum()\n",
    "print('Total number of goals scored by the top 5 players:',finalout)\n",
    "\n"
   ]
  },
  {
   "cell_type": "markdown",
   "id": "31e7f2d0",
   "metadata": {},
   "source": [
    "# Q4: What are the top 10 countries with the most number of players in the dataset?"
   ]
  },
  {
   "cell_type": "code",
   "execution_count": 12,
   "id": "3681cad9",
   "metadata": {},
   "outputs": [
    {
     "data": {
      "text/html": [
       "<div>\n",
       "<style scoped>\n",
       "    .dataframe tbody tr th:only-of-type {\n",
       "        vertical-align: middle;\n",
       "    }\n",
       "\n",
       "    .dataframe tbody tr th {\n",
       "        vertical-align: top;\n",
       "    }\n",
       "\n",
       "    .dataframe thead th {\n",
       "        text-align: right;\n",
       "    }\n",
       "</style>\n",
       "<table border=\"1\" class=\"dataframe\">\n",
       "  <thead>\n",
       "    <tr style=\"text-align: right;\">\n",
       "      <th></th>\n",
       "      <th>Country</th>\n",
       "      <th>Number_of_Players</th>\n",
       "    </tr>\n",
       "  </thead>\n",
       "  <tbody>\n",
       "    <tr>\n",
       "      <th>0</th>\n",
       "      <td>Spain</td>\n",
       "      <td>100</td>\n",
       "    </tr>\n",
       "    <tr>\n",
       "      <th>1</th>\n",
       "      <td>Italy</td>\n",
       "      <td>100</td>\n",
       "    </tr>\n",
       "    <tr>\n",
       "      <th>2</th>\n",
       "      <td>Germany</td>\n",
       "      <td>100</td>\n",
       "    </tr>\n",
       "    <tr>\n",
       "      <th>3</th>\n",
       "      <td>Brazil</td>\n",
       "      <td>100</td>\n",
       "    </tr>\n",
       "    <tr>\n",
       "      <th>4</th>\n",
       "      <td>England</td>\n",
       "      <td>80</td>\n",
       "    </tr>\n",
       "    <tr>\n",
       "      <th>5</th>\n",
       "      <td>France</td>\n",
       "      <td>60</td>\n",
       "    </tr>\n",
       "    <tr>\n",
       "      <th>6</th>\n",
       "      <td>USA</td>\n",
       "      <td>40</td>\n",
       "    </tr>\n",
       "    <tr>\n",
       "      <th>7</th>\n",
       "      <td>Portugal</td>\n",
       "      <td>40</td>\n",
       "    </tr>\n",
       "    <tr>\n",
       "      <th>8</th>\n",
       "      <td>Netherlands</td>\n",
       "      <td>40</td>\n",
       "    </tr>\n",
       "  </tbody>\n",
       "</table>\n",
       "</div>"
      ],
      "text/plain": [
       "        Country  Number_of_Players\n",
       "0         Spain                100\n",
       "1         Italy                100\n",
       "2       Germany                100\n",
       "3        Brazil                100\n",
       "4       England                 80\n",
       "5        France                 60\n",
       "6           USA                 40\n",
       "7     Portugal                  40\n",
       "8   Netherlands                 40"
      ]
     },
     "execution_count": 12,
     "metadata": {},
     "output_type": "execute_result"
    }
   ],
   "source": [
    "# I have just Group the dataset by country and count the number of players in each country\n",
    "\n",
    "country_play_count = df['Country'].value_counts().reset_index()\n",
    "country_play_count.columns = ['Country', 'Number_of_Players']\n",
    "\n",
    "\n",
    "# Sorting the values\n",
    "country_play_count.sort_values(by = 'Number_of_Players', ascending = False).head(10)\n"
   ]
  },
  {
   "cell_type": "code",
   "execution_count": null,
   "id": "9909306c",
   "metadata": {},
   "outputs": [],
   "source": []
  },
  {
   "cell_type": "markdown",
   "id": "8c0145b8",
   "metadata": {},
   "source": [
    "# Q5: # Q1. Create a new dataframe after removing the ourliers for Mins Column in the dataset (conside the upper quantile to be 99 percentile and the lower quantile to be 1 percentile.). After that Find the difference in the number of rows?\n",
    "\n",
    "* Difference is df.shape(only rows) - df.shape(rows of filtered data only)"
   ]
  },
  {
   "cell_type": "code",
   "execution_count": 13,
   "id": "b2025a47",
   "metadata": {},
   "outputs": [
    {
     "name": "stdout",
     "output_type": "stream",
     "text": [
      "Difference in the number of rows after removing outliers: 14\n"
     ]
    }
   ],
   "source": [
    "\n",
    "# Calculate the 1st and 99th percentiles for the \"Mins\" column\n",
    "lower_quantile = df['Mins'].quantile(0.01)\n",
    "upper_quantile = df['Mins'].quantile(0.99)\n",
    "\n",
    "# Create a new DataFrame by filtering the original DataFrame to include only non-outliers\n",
    "filtered = df[(df['Mins'] >= lower_quantile) & (df['Mins'] <= upper_quantile)]\n",
    "\n",
    "# Calculating the difference in the number of rows\n",
    "final = df.shape[0] - filtered.shape[0]\n",
    "\n",
    "print(\"Difference in the number of rows after removing outliers:\", final)\n"
   ]
  },
  {
   "cell_type": "code",
   "execution_count": null,
   "id": "8d99a560",
   "metadata": {},
   "outputs": [],
   "source": []
  },
  {
   "cell_type": "markdown",
   "id": "0f585553",
   "metadata": {},
   "source": [
    "# Q6: Which top 5 players have scored the maximum number of goals throughout all the years? Display them in descending order"
   ]
  },
  {
   "cell_type": "code",
   "execution_count": 14,
   "id": "e882bf65",
   "metadata": {},
   "outputs": [
    {
     "name": "stdout",
     "output_type": "stream",
     "text": [
      "Top 5 players with the maximum number of goals scored throughout all the years:\n",
      "           Player_Names  Goals\n",
      "259        Lionel Messi    135\n",
      "93    Cristiano Ronaldo    128\n",
      "368  Robert Lewandowski    127\n",
      "86        Ciro Immobile    107\n",
      "273         Luis Suarez     95\n"
     ]
    }
   ],
   "source": [
    "\n",
    "# Group the dataset by player names and sum the goals for each player\n",
    "player_goals = df.groupby('Player_Names')['Goals'].sum().reset_index()\n",
    "\n",
    "# i have sort the values\n",
    "top_players = player_goals.sort_values(by='Goals', ascending=False)\n",
    "\n",
    "# Top 10 players\n",
    "top_5_players = top_players.head(5)\n",
    "\n",
    "print(\"Top 5 players with the maximum number of goals scored throughout all the years:\")\n",
    "print(top_5_players)\n",
    "\n"
   ]
  },
  {
   "cell_type": "code",
   "execution_count": null,
   "id": "1296a131",
   "metadata": {},
   "outputs": [],
   "source": []
  },
  {
   "cell_type": "markdown",
   "id": "bdeed0f8",
   "metadata": {},
   "source": [
    "# Q7. Using Bar Plot show in which year has Cristiano Ronaldo scored the most number of goals?"
   ]
  },
  {
   "cell_type": "code",
   "execution_count": 15,
   "id": "85790f26",
   "metadata": {},
   "outputs": [
    {
     "data": {
      "image/png": "[encoded data removed]",
      "text/plain": [
       "<Figure size 864x576 with 1 Axes>"
      ]
     },
     "metadata": {
      "needs_background": "light"
     },
     "output_type": "display_data"
    }
   ],
   "source": [
    "\n",
    "# I have Filter the dataset to include only rows where the player is Cristiano Ronaldo\n",
    "ronaldo_data_year = df[df['Player_Names'] == 'Cristiano Ronaldo'].groupby('Year')['Goals'].sum().reset_index()\n",
    "# To find the most number of goals by year\n",
    "final = ronaldo_data_year.loc[ronaldo_data_year['Goals'].idxmax()]\n",
    "\n",
    "plt.figure(figsize = (12,8))\n",
    "sns.barplot(data = ronaldo_data_year, x ='Year', y = 'Goals',palette='viridis' )\n",
    "plt.title(f\"Cristiano Ronaldo's Goals by Year (Most Goals in {final['Year']})\")\n",
    "plt.show()"
   ]
  },
  {
   "cell_type": "code",
   "execution_count": null,
   "id": "f472dd34",
   "metadata": {},
   "outputs": [],
   "source": [
    "\n"
   ]
  },
  {
   "cell_type": "markdown",
   "id": "219298ee",
   "metadata": {},
   "source": [
    "# Q8. In the year 2019 who has more Goals between Ronaldo and Messi? \n",
    "- First print them normally \n",
    "- Display the comparison using a bar plot"
   ]
  },
  {
   "cell_type": "code",
   "execution_count": 16,
   "id": "5c417e25",
   "metadata": {},
   "outputs": [
    {
     "name": "stdout",
     "output_type": "stream",
     "text": [
      "Goals scored by Cristiano Ronaldo in 2019: 25\n",
      "Goals scored by Lionel Messi: 31\n"
     ]
    }
   ],
   "source": [
    "# - First print them normally \n",
    "# I have Filter the dataset to include only data for the year 2019\n",
    "data_goals = df[df['Year'] == 2019].groupby('Player_Names')['Goals'].sum()\n",
    "ronaldo_data = data_goals.get(\"Cristiano Ronaldo\",0)\n",
    "messi_data = data_goals.get(\"Lionel Messi\",0)\n",
    "print(\"Goals scored by Cristiano Ronaldo in 2019:\",messi_data)\n",
    "print(\"Goals scored by Lionel Messi:\",ronaldo_data)\n"
   ]
  },
  {
   "cell_type": "code",
   "execution_count": null,
   "id": "b760360b",
   "metadata": {},
   "outputs": [],
   "source": [
    "\n",
    "\n",
    "\n",
    "\n"
   ]
  },
  {
   "cell_type": "markdown",
   "id": "c3e2f5d8",
   "metadata": {},
   "source": [
    "# Q9: Using Pie Chart show the amount of data various Countries are containing in this dataset(use the Country Columns Display the percentage of data as well in the pie chart"
   ]
  },
  {
   "cell_type": "code",
   "execution_count": 17,
   "id": "7d234400",
   "metadata": {},
   "outputs": [
    {
     "data": {
      "image/png": "[encoded data removed]",
      "text/plain": [
       "<Figure size 576x720 with 1 Axes>"
      ]
     },
     "metadata": {},
     "output_type": "display_data"
    }
   ],
   "source": [
    "\n",
    "# Count the number of data points for each country\n",
    "country_data_count = df['Country'].value_counts()  \n",
    "\n",
    "# Create a pie char\n",
    "Country_Counts =df['Country'].value_counts()\n",
    "plt.figure(figsize=(8, 10))\n",
    "\n",
    "Country_Counts.plot(kind = 'pie',autopct = '%.1f')\n",
    "plt.title(\"Data Distribution by Country\")\n",
    "plt.show()"
   ]
  },
  {
   "cell_type": "code",
   "execution_count": null,
   "id": "23bb15e5",
   "metadata": {},
   "outputs": [],
   "source": [
    " "
   ]
  },
  {
   "cell_type": "markdown",
   "id": "0d8f8d37",
   "metadata": {},
   "source": [
    "# Q10: Display a Heatmap  to show the correlation between the columns in the dataset. The heatmap should have the value of the correlation printed within the boxes."
   ]
  },
  {
   "cell_type": "code",
   "execution_count": 18,
   "id": "61e46fe6",
   "metadata": {},
   "outputs": [
    {
     "data": {
      "image/png": "[encoded data removed]",
      "text/plain": [
       "<Figure size 936x504 with 2 Axes>"
      ]
     },
     "metadata": {
      "needs_background": "light"
     },
     "output_type": "display_data"
    }
   ],
   "source": [
    "\n",
    "# Assuming you have loaded your dataset into a DataFrame named 'df'\n",
    "\n",
    "# Calculate the correlation matrix\n",
    "correlation_Heatmap = df.corr()\n",
    "\n",
    "# Create a heatmap\n",
    "plt.figure(figsize=(13, 7))\n",
    "sns.heatmap(correlation_Heatmap, annot=True, fmt=\".2f\", cmap=\"Greens\",linewidths=0.5)\n",
    "plt.title(\"Correlation Heatmap\")\n",
    "plt.show()\n"
   ]
  },
  {
   "cell_type": "code",
   "execution_count": 19,
   "id": "4a236041",
   "metadata": {},
   "outputs": [
    {
     "data": {
      "text/html": [
       "<div>\n",
       "<style scoped>\n",
       "    .dataframe tbody tr th:only-of-type {\n",
       "        vertical-align: middle;\n",
       "    }\n",
       "\n",
       "    .dataframe tbody tr th {\n",
       "        vertical-align: top;\n",
       "    }\n",
       "\n",
       "    .dataframe thead th {\n",
       "        text-align: right;\n",
       "    }\n",
       "</style>\n",
       "<table border=\"1\" class=\"dataframe\">\n",
       "  <thead>\n",
       "    <tr style=\"text-align: right;\">\n",
       "      <th></th>\n",
       "      <th>Matches_Played</th>\n",
       "      <th>Substitution</th>\n",
       "      <th>Mins</th>\n",
       "      <th>Goals</th>\n",
       "      <th>xG</th>\n",
       "      <th>xG_Per_Avg_Match</th>\n",
       "      <th>Shots</th>\n",
       "      <th>OnTarget</th>\n",
       "      <th>Shots_Per_Avg_Match</th>\n",
       "      <th>On_Target_Per_Avg_Match</th>\n",
       "      <th>Year</th>\n",
       "    </tr>\n",
       "  </thead>\n",
       "  <tbody>\n",
       "    <tr>\n",
       "      <th>Matches_Played</th>\n",
       "      <td>1.000000</td>\n",
       "      <td>-0.080422</td>\n",
       "      <td>0.981231</td>\n",
       "      <td>0.668750</td>\n",
       "      <td>0.695411</td>\n",
       "      <td>-0.163790</td>\n",
       "      <td>0.788192</td>\n",
       "      <td>0.722838</td>\n",
       "      <td>-0.005875</td>\n",
       "      <td>-0.066603</td>\n",
       "      <td>-0.546415</td>\n",
       "    </tr>\n",
       "    <tr>\n",
       "      <th>Substitution</th>\n",
       "      <td>-0.080422</td>\n",
       "      <td>1.000000</td>\n",
       "      <td>0.006075</td>\n",
       "      <td>0.039685</td>\n",
       "      <td>0.004738</td>\n",
       "      <td>0.001942</td>\n",
       "      <td>0.001490</td>\n",
       "      <td>0.007776</td>\n",
       "      <td>0.009738</td>\n",
       "      <td>0.029030</td>\n",
       "      <td>-0.219274</td>\n",
       "    </tr>\n",
       "    <tr>\n",
       "      <th>Mins</th>\n",
       "      <td>0.981231</td>\n",
       "      <td>0.006075</td>\n",
       "      <td>1.000000</td>\n",
       "      <td>0.678621</td>\n",
       "      <td>0.708465</td>\n",
       "      <td>-0.160581</td>\n",
       "      <td>0.796597</td>\n",
       "      <td>0.728925</td>\n",
       "      <td>-0.011351</td>\n",
       "      <td>-0.071387</td>\n",
       "      <td>-0.525116</td>\n",
       "    </tr>\n",
       "    <tr>\n",
       "      <th>Goals</th>\n",
       "      <td>0.668750</td>\n",
       "      <td>0.039685</td>\n",
       "      <td>0.678621</td>\n",
       "      <td>1.000000</td>\n",
       "      <td>0.903190</td>\n",
       "      <td>0.382411</td>\n",
       "      <td>0.833886</td>\n",
       "      <td>0.858692</td>\n",
       "      <td>0.416283</td>\n",
       "      <td>0.432630</td>\n",
       "      <td>-0.434011</td>\n",
       "    </tr>\n",
       "    <tr>\n",
       "      <th>xG</th>\n",
       "      <td>0.695411</td>\n",
       "      <td>0.004738</td>\n",
       "      <td>0.708465</td>\n",
       "      <td>0.903190</td>\n",
       "      <td>1.000000</td>\n",
       "      <td>0.490747</td>\n",
       "      <td>0.856190</td>\n",
       "      <td>0.852641</td>\n",
       "      <td>0.420086</td>\n",
       "      <td>0.397934</td>\n",
       "      <td>-0.386874</td>\n",
       "    </tr>\n",
       "    <tr>\n",
       "      <th>xG_Per_Avg_Match</th>\n",
       "      <td>-0.163790</td>\n",
       "      <td>0.001942</td>\n",
       "      <td>-0.160581</td>\n",
       "      <td>0.382411</td>\n",
       "      <td>0.490747</td>\n",
       "      <td>1.000000</td>\n",
       "      <td>0.205135</td>\n",
       "      <td>0.268344</td>\n",
       "      <td>0.640633</td>\n",
       "      <td>0.684667</td>\n",
       "      <td>0.074453</td>\n",
       "    </tr>\n",
       "    <tr>\n",
       "      <th>Shots</th>\n",
       "      <td>0.788192</td>\n",
       "      <td>0.001490</td>\n",
       "      <td>0.796597</td>\n",
       "      <td>0.833886</td>\n",
       "      <td>0.856190</td>\n",
       "      <td>0.205135</td>\n",
       "      <td>1.000000</td>\n",
       "      <td>0.923213</td>\n",
       "      <td>0.527506</td>\n",
       "      <td>0.391105</td>\n",
       "      <td>-0.469195</td>\n",
       "    </tr>\n",
       "    <tr>\n",
       "      <th>OnTarget</th>\n",
       "      <td>0.722838</td>\n",
       "      <td>0.007776</td>\n",
       "      <td>0.728925</td>\n",
       "      <td>0.858692</td>\n",
       "      <td>0.852641</td>\n",
       "      <td>0.268344</td>\n",
       "      <td>0.923213</td>\n",
       "      <td>1.000000</td>\n",
       "      <td>0.487439</td>\n",
       "      <td>0.558326</td>\n",
       "      <td>-0.512711</td>\n",
       "    </tr>\n",
       "    <tr>\n",
       "      <th>Shots_Per_Avg_Match</th>\n",
       "      <td>-0.005875</td>\n",
       "      <td>0.009738</td>\n",
       "      <td>-0.011351</td>\n",
       "      <td>0.416283</td>\n",
       "      <td>0.420086</td>\n",
       "      <td>0.640633</td>\n",
       "      <td>0.527506</td>\n",
       "      <td>0.487439</td>\n",
       "      <td>1.000000</td>\n",
       "      <td>0.819838</td>\n",
       "      <td>-0.063464</td>\n",
       "    </tr>\n",
       "    <tr>\n",
       "      <th>On_Target_Per_Avg_Match</th>\n",
       "      <td>-0.066603</td>\n",
       "      <td>0.029030</td>\n",
       "      <td>-0.071387</td>\n",
       "      <td>0.432630</td>\n",
       "      <td>0.397934</td>\n",
       "      <td>0.684667</td>\n",
       "      <td>0.391105</td>\n",
       "      <td>0.558326</td>\n",
       "      <td>0.819838</td>\n",
       "      <td>1.000000</td>\n",
       "      <td>-0.132174</td>\n",
       "    </tr>\n",
       "    <tr>\n",
       "      <th>Year</th>\n",
       "      <td>-0.546415</td>\n",
       "      <td>-0.219274</td>\n",
       "      <td>-0.525116</td>\n",
       "      <td>-0.434011</td>\n",
       "      <td>-0.386874</td>\n",
       "      <td>0.074453</td>\n",
       "      <td>-0.469195</td>\n",
       "      <td>-0.512711</td>\n",
       "      <td>-0.063464</td>\n",
       "      <td>-0.132174</td>\n",
       "      <td>1.000000</td>\n",
       "    </tr>\n",
       "  </tbody>\n",
       "</table>\n",
       "</div>"
      ],
      "text/plain": [
       "                         Matches_Played  Substitution      Mins     Goals  \\\n",
       "Matches_Played                 1.000000     -0.080422  0.981231  0.668750   \n",
       "Substitution                  -0.080422      1.000000  0.006075  0.039685   \n",
       "Mins                           0.981231      0.006075  1.000000  0.678621   \n",
       "Goals                          0.668750      0.039685  0.678621  1.000000   \n",
       "xG                             0.695411      0.004738  0.708465  0.903190   \n",
       "xG_Per_Avg_Match              -0.163790      0.001942 -0.160581  0.382411   \n",
       "Shots                          0.788192      0.001490  0.796597  0.833886   \n",
       "OnTarget                       0.722838      0.007776  0.728925  0.858692   \n",
       "Shots_Per_Avg_Match           -0.005875      0.009738 -0.011351  0.416283   \n",
       "On_Target_Per_Avg_Match       -0.066603      0.029030 -0.071387  0.432630   \n",
       "Year                          -0.546415     -0.219274 -0.525116 -0.434011   \n",
       "\n",
       "                               xG  xG_Per_Avg_Match     Shots  OnTarget  \\\n",
       "Matches_Played           0.695411         -0.163790  0.788192  0.722838   \n",
       "Substitution             0.004738          0.001942  0.001490  0.007776   \n",
       "Mins                     0.708465         -0.160581  0.796597  0.728925   \n",
       "Goals                    0.903190          0.382411  0.833886  0.858692   \n",
       "xG                       1.000000          0.490747  0.856190  0.852641   \n",
       "xG_Per_Avg_Match         0.490747          1.000000  0.205135  0.268344   \n",
       "Shots                    0.856190          0.205135  1.000000  0.923213   \n",
       "OnTarget                 0.852641          0.268344  0.923213  1.000000   \n",
       "Shots_Per_Avg_Match      0.420086          0.640633  0.527506  0.487439   \n",
       "On_Target_Per_Avg_Match  0.397934          0.684667  0.391105  0.558326   \n",
       "Year                    -0.386874          0.074453 -0.469195 -0.512711   \n",
       "\n",
       "                         Shots_Per_Avg_Match  On_Target_Per_Avg_Match  \\\n",
       "Matches_Played                     -0.005875                -0.066603   \n",
       "Substitution                        0.009738                 0.029030   \n",
       "Mins                               -0.011351                -0.071387   \n",
       "Goals                               0.416283                 0.432630   \n",
       "xG                                  0.420086                 0.397934   \n",
       "xG_Per_Avg_Match                    0.640633                 0.684667   \n",
       "Shots                               0.527506                 0.391105   \n",
       "OnTarget                            0.487439                 0.558326   \n",
       "Shots_Per_Avg_Match                 1.000000                 0.819838   \n",
       "On_Target_Per_Avg_Match             0.819838                 1.000000   \n",
       "Year                               -0.063464                -0.132174   \n",
       "\n",
       "                             Year  \n",
       "Matches_Played          -0.546415  \n",
       "Substitution            -0.219274  \n",
       "Mins                    -0.525116  \n",
       "Goals                   -0.434011  \n",
       "xG                      -0.386874  \n",
       "xG_Per_Avg_Match         0.074453  \n",
       "Shots                   -0.469195  \n",
       "OnTarget                -0.512711  \n",
       "Shots_Per_Avg_Match     -0.063464  \n",
       "On_Target_Per_Avg_Match -0.132174  \n",
       "Year                     1.000000  "
      ]
     },
     "execution_count": 19,
     "metadata": {},
     "output_type": "execute_result"
    }
   ],
   "source": [
    "df.corr()"
   ]
  },
  {
   "cell_type": "markdown",
   "id": "f87975fb",
   "metadata": {},
   "source": [
    "# Q11: Which Country has the maximum median OnTarget Shots among all the Countries in the year 2020?"
   ]
  },
  {
   "cell_type": "code",
   "execution_count": 20,
   "id": "6663991c",
   "metadata": {},
   "outputs": [
    {
     "name": "stdout",
     "output_type": "stream",
     "text": [
      "Country with the maximum median OnTarget Shots in the year 2020:\n",
      "\n",
      "Country      Netherlands\n",
      "OnTarget            25.5\n",
      "Name: 0, dtype: object\n"
     ]
    }
   ],
   "source": [
    "data_year =  df[df['Year'] == 2020]\n",
    "data_year_index = data_year.groupby('Country')['OnTarget'].median().reset_index()\n",
    "data_year_index = data_year_index.loc[data_year_index['OnTarget'].idxmax()]\n",
    "print(\"Country with the maximum median OnTarget Shots in the year 2020:\")\n",
    "print()\n",
    "print(data_year_index)"
   ]
  },
  {
   "cell_type": "code",
   "execution_count": null,
   "id": "310f091a",
   "metadata": {},
   "outputs": [],
   "source": []
  },
  {
   "cell_type": "markdown",
   "id": "5f69be41",
   "metadata": {},
   "source": [
    "# Q12. Who has the best average  Goals per minute?\n",
    "* Consider only those players who have played more than 30 games\n",
    "* Then Find Goals per minute\n",
    "* Find Mean of Goals per minute and sort the values"
   ]
  },
  {
   "cell_type": "code",
   "execution_count": 21,
   "id": "cedf79a7",
   "metadata": {},
   "outputs": [
    {
     "name": "stdout",
     "output_type": "stream",
     "text": [
      "Lionel Messi has the best average goals per minute\n",
      "And this is the Player with the best average Goals per Minute (with more than 30 games):\n",
      "\n",
      "Country                           Spain\n",
      "League                          La Liga\n",
      "Club                              (BAR)\n",
      "Player_Names               Lionel Messi\n",
      "Matches_Played                       32\n",
      "Substitution                          2\n",
      "Mins                               2910\n",
      "Goals                                37\n",
      "xG                                26.65\n",
      "xG_Per_Avg_Match                   0.87\n",
      "Shots                               179\n",
      "OnTarget                             76\n",
      "Shots_Per_Avg_Match                5.84\n",
      "On_Target_Per_Avg_Match            2.48\n",
      "Year                               2016\n",
      "Goals_per_minute               0.012715\n",
      "Name: 12, dtype: object\n"
     ]
    },
    {
     "name": "stderr",
     "output_type": "stream",
     "text": [
      "C:\\Users\\USER\\AppData\\Local\\Temp/ipykernel_11276/2747927924.py:3: SettingWithCopyWarning: \n",
      "A value is trying to be set on a copy of a slice from a DataFrame.\n",
      "Try using .loc[row_indexer,col_indexer] = value instead\n",
      "\n",
      "See the caveats in the documentation: https://pandas.pydata.org/pandas-docs/stable/user_guide/indexing.html#returning-a-view-versus-a-copy\n",
      "  Players_with30Gamnes[\"Goals_per_minute\"] = Players_with30Gamnes['Goals'] / Players_with30Gamnes[\"Mins\"]\n"
     ]
    }
   ],
   "source": [
    "# I have Filter the dataset to include only players who have played more than 30 games\n",
    "Players_with30Gamnes = df[df['Matches_Played'] > 30]\n",
    "Players_with30Gamnes[\"Goals_per_minute\"] = Players_with30Gamnes['Goals'] / Players_with30Gamnes[\"Mins\"]\n",
    "\n",
    "# Finding the mean of the Goals_per_minute\n",
    "mean_of_goals = Players_with30Gamnes['Goals_per_minute'].mean()\n",
    "\n",
    "mean_of_goals = Players_with30Gamnes.sort_values(by = 'Goals_per_minute',ascending = False).iloc[0]\n",
    "print(mean_of_goals['Player_Names'],\"has the best average goals per minute\")\n",
    "print(\"And this is the Player with the best average Goals per Minute (with more than 30 games):\")\n",
    "print()\n",
    "print( mean_of_goals)\n"
   ]
  },
  {
   "cell_type": "code",
   "execution_count": null,
   "id": "06af824a",
   "metadata": {},
   "outputs": [],
   "source": [
    "\n"
   ]
  },
  {
   "cell_type": "code",
   "execution_count": null,
   "metadata": {},
   "outputs": [],
   "source": []
  },
  {
   "cell_type": "markdown",
   "id": "7a2ce78e",
   "metadata": {},
   "source": [
    "# Q 13. Which Player has the least and most number of missed shots in the dataset?\n",
    "* Missed Shots=Shots-On Target"
   ]
  },
  {
   "cell_type": "code",
   "execution_count": 22,
   "id": "73508b39",
   "metadata": {},
   "outputs": [
    {
     "name": "stdout",
     "output_type": "stream",
     "text": [
      "Player with the least missed shots:\n",
      "Esteban Burgos\n",
      "\n",
      "Player with the most missed shots:\n",
      "Cristiano Ronaldo\n"
     ]
    }
   ],
   "source": [
    "\n",
    "# I have Calculate missed shots for each player\n",
    "df['Missed_Shots'] = df['Shots'] - df['OnTarget']\n",
    "\n",
    "# And I have Find the player with the least missed shots\n",
    "least_missed_shots = df.loc[df['Missed_Shots'].idxmin()]\n",
    "\n",
    "# And I have Find the player with the most missed shots\n",
    "most_missed_shots  = df.loc[df['Missed_Shots'].idxmax()]\n",
    "\n",
    "print(\"Player with the least missed shots:\")\n",
    "print(least_missed_shots[\"Player_Names\"] )\n",
    "\n",
    "print(\"\\nPlayer with the most missed shots:\")\n",
    "print(most_missed_shots[\"Player_Names\"] )\n"
   ]
  },
  {
   "cell_type": "code",
   "execution_count": null,
   "id": "2037d7e2",
   "metadata": {},
   "outputs": [],
   "source": []
  },
  {
   "cell_type": "markdown",
   "id": "f66c59df",
   "metadata": {},
   "source": [
    "# Q14: How many countries have had players who played more than 35 matches? Create a bar plot to display the count for each country."
   ]
  },
  {
   "cell_type": "code",
   "execution_count": 23,
   "id": "e7d9277b",
   "metadata": {},
   "outputs": [
    {
     "name": "stdout",
     "output_type": "stream",
     "text": [
      "Number of countries with players who played more than 35 matches: 5\n"
     ]
    }
   ],
   "source": [
    "# Filter the dataset to include only players who have played more than 35 matches\n",
    "matches_played = df[df['Matches_Played'] > 35]\n",
    "\n",
    "# Count the number of unique countries in the filtered dataset\n",
    "countries_count = matches_played['Country'].nunique()\n",
    "\n",
    "print(\"Number of countries with players who played more than 35 matches:\", countries_count)\n",
    "\n",
    "\n"
   ]
  },
  {
   "cell_type": "code",
   "execution_count": 24,
   "metadata": {},
   "outputs": [
    {
     "data": {
      "text/plain": [
       "England    11\n",
       "Spain       9\n",
       "Italy       9\n",
       "France      4\n",
       "Brazil      1\n",
       "Name: Country, dtype: int64"
      ]
     },
     "execution_count": 24,
     "metadata": {},
     "output_type": "execute_result"
    }
   ],
   "source": [
    "country_counts = matches_played['Country'].value_counts()\n",
    "country_counts"
   ]
  },
  {
   "cell_type": "code",
   "execution_count": 25,
   "id": "889ba941",
   "metadata": {},
   "outputs": [
    {
     "data": {
      "image/png": "[encoded data removed]",
      "text/plain": [
       "<Figure size 864x504 with 1 Axes>"
      ]
     },
     "metadata": {
      "needs_background": "light"
     },
     "output_type": "display_data"
    }
   ],
   "source": [
    "# I have Created a bar plot to display the count for each country\n",
    "country_counts = matches_played['Country'].value_counts()\n",
    "\n",
    "plt.figure(figsize=(12, 7))\n",
    "sns.barplot(x=country_counts.index, y=country_counts.values, palette='Greens')\n",
    "plt.title(\"Number of Players with More Than 35 Matches by Country\")\n",
    "plt.xlabel('Country')\n",
    "plt.ylabel('Number of Players')\n",
    "plt.show()"
   ]
  },
  {
   "cell_type": "markdown",
   "id": "b496d3ed",
   "metadata": {},
   "source": [
    "# Q15: Draw a Line Chart to show the comparison of the top 5 highest scoring players in the dataset throughout the years(2016-2020)"
   ]
  },
  {
   "cell_type": "code",
   "execution_count": 26,
   "id": "fac7d0b1",
   "metadata": {},
   "outputs": [
    {
     "data": {
      "image/png": "[encoded data removed]",
      "text/plain": [
       "<Figure size 864x504 with 1 Axes>"
      ]
     },
     "metadata": {
      "needs_background": "light"
     },
     "output_type": "display_data"
    }
   ],
   "source": [
    "# Filter the dataset to include data for the years 2016-2020\n",
    "data_years = df[df['Year'].between(2016, 2020)]\n",
    "\n",
    "# Group the data by player names and sum the goals for each player\n",
    "player_goals = data_years.groupby('Player_Names')['Goals'].sum().reset_index()\n",
    "\n",
    "# Sort the players by total goals in descending order\n",
    "top_players = player_goals.sort_values(by='Goals', ascending=False).head(5)\n",
    "\n",
    "# Filter the dataset to include data for the top 5 players\n",
    "top_5_data = data_years[data_years['Player_Names'].isin(top_players['Player_Names'])]\n",
    "\n",
    "# Creating a line chart to show the comparison of the top 5 players\n",
    "plt.figure(figsize=(12, 7))\n",
    "sns.lineplot(data=top_5_data, x='Year', y='Goals', hue='Player_Names', palette='viridis')\n",
    "plt.title(\"Comparison of Top 5 Highest Scoring Players (2016-2020)\")\n",
    "plt.xlabel('Year')\n",
    "plt.ylabel('Goals')\n",
    "plt.legend(title='Player_Names')\n",
    "plt.show()"
   ]
  },
  {
   "cell_type": "code",
   "execution_count": null,
   "id": "a58fb8a4",
   "metadata": {},
   "outputs": [],
   "source": []
  },
  {
   "cell_type": "code",
   "execution_count": null,
   "id": "2761e9ae",
   "metadata": {},
   "outputs": [],
   "source": []
  },
  {
   "cell_type": "code",
   "execution_count": null,
   "id": "f823e1a9",
   "metadata": {},
   "outputs": [],
   "source": []
  },
  {
   "cell_type": "code",
   "execution_count": null,
   "id": "8f32b415",
   "metadata": {},
   "outputs": [],
   "source": []
  },
  {
   "cell_type": "code",
   "execution_count": null,
   "id": "ea9cfa41",
   "metadata": {},
   "outputs": [],
   "source": []
  }
 ],
 "metadata": {
  "kernelspec": {
   "display_name": "Python 3 (ipykernel)",
   "language": "python",
   "name": "python3"
  },
  "language_info": {
   "codemirror_mode": {
    "name": "ipython",
    "version": 3
   },
   "file_extension": ".py",
   "mimetype": "text/x-python",
   "name": "python",
   "nbconvert_exporter": "python",
   "pygments_lexer": "ipython3",
   "version": "3.8.11"
  }
 },
 "nbformat": 4,
 "nbformat_minor": 5
}
